{
 "cells": [
  {
   "cell_type": "markdown",
   "id": "bdd2967f-2e6a-47d5-a902-e1225cc42862",
   "metadata": {},
   "source": [
    "# BMI Calculator"
   ]
  },
  {
   "cell_type": "code",
   "execution_count": 1,
   "id": "214f7ac9-b30c-49b4-a72b-5241e7aef519",
   "metadata": {},
   "outputs": [],
   "source": [
    "#BMI = (weight in lbs * 703) / (height in inches * height in inches)"
   ]
  },
  {
   "cell_type": "code",
   "execution_count": 1,
   "id": "1128d31c-51fa-4026-97e6-52faaaa39e5f",
   "metadata": {},
   "outputs": [
    {
     "name": "stdin",
     "output_type": "stream",
     "text": [
      "Enter your name: Aswad\n",
      "Enter your weight in lbs: 195\n",
      "Enter your height in inches: 72\n"
     ]
    },
    {
     "name": "stdout",
     "output_type": "stream",
     "text": [
      "26.44386574074074\n",
      "Aswad, you are Overweight\n"
     ]
    }
   ],
   "source": [
    "name = input(\"Enter your name:\")\n",
    "weight = int(input(\"Enter your weight in lbs:\"))\n",
    "height = int(input(\"Enter your height in inches:\"))\n",
    "BMI = (weight * 703)/(height * height)\n",
    "\n",
    "print(BMI)\n",
    "\n",
    "if BMI<18.5:\n",
    "    print(name + \", you are Underweight\")\n",
    "if BMI>=18.5 and BMI<=24.9:\n",
    "    print(name + \", you are Normal weight\")\n",
    "if BMI>=25 and BMI<=29.9:\n",
    "    print(name + \", you are Overweight\")            \n",
    "if BMI>=30 and BMI<=34.9:\n",
    "    print(name + \", you are Obese\")\n",
    "if BMI>=35 and BMI<=39.9:\n",
    "    print(name + \", you are Severely Obese\")\n",
    "if BMI>=40:\n",
    "    print(name + \",you are Morbidly Obese\")"
   ]
  },
  {
   "cell_type": "code",
   "execution_count": null,
   "id": "b52d53a7-fea2-4cd3-8f81-6229f47d5e78",
   "metadata": {},
   "outputs": [],
   "source": []
  }
 ],
 "metadata": {
  "kernelspec": {
   "display_name": "Python [conda env:base] *",
   "language": "python",
   "name": "conda-base-py"
  },
  "language_info": {
   "codemirror_mode": {
    "name": "ipython",
    "version": 3
   },
   "file_extension": ".py",
   "mimetype": "text/x-python",
   "name": "python",
   "nbconvert_exporter": "python",
   "pygments_lexer": "ipython3",
   "version": "3.13.5"
  }
 },
 "nbformat": 4,
 "nbformat_minor": 5
}
